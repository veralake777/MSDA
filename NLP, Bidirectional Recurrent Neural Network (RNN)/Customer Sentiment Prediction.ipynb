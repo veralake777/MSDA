{
 "cells": [
  {
   "cell_type": "markdown",
   "metadata": {},
   "source": [
    "# Scenario\n",
    "Throughout your career as a data analyst, you will assess continuing data sources for their relevance to specific research questions. Organizations use data sets to analyze their operations. Organizations have many possible uses for these data sets to support their decision-making processes.\n",
    "\n",
    "In your previous coursework, you have explored a variety of supervised and unsupervised data mining models. You have seen the power of using data analytical techniques to help organizations make data-driven decisions and now want to extend these models into areas of machine learning and artificial intelligence. In this course, you will explore the use of neural networks and natural language processing (NLP).\n",
    "\n",
    "**Data Selected**\n",
    "https://archive.ics.uci.edu/ml/datasets/Sentiment+Labelled+Sentences"
   ]
  },
  {
   "cell_type": "markdown",
   "metadata": {},
   "source": [
    "# Part I:  Research Question\n",
    "\n",
    "## A.  Describe the purpose of this data analysis by doing the following:\n",
    "\n",
    "### A1.  Summarize one research question that you will answer using neural network models and NLP techniques. Be sure the research question is relevant to a real-world organizational situation and sentiment analysis captured in your chosen dataset.\n",
    "*Rubric: The submission summarizes 1 research question, and the research question is relevant to a realistic organizational situation and sentiment analysis. The research question can be answered using the selected dataset, neural network model, and NLP techniques.*\n",
    "\n",
    "Is it possible to analyze customer sentiment using Neural Networks and the Natural Language Processing technique so that this company can take appropriate actions to improve customer satisfaction?\n",
    "\n",
    "### A2.  Define the objectives or goals of the data analysis. Be sure the objectives or goals are reasonable within the scope of the research question and are represented in the available data.\n",
    "*Rubric: The submission clearly defines each of the objectives or goals of the data analysis. Each objective or goal is reasonable within the scope of the research question and represented in the available data.*\n",
    "\n",
    "The goal of this data analysis is to attempt to predict the customer sentiment (how a user feels) of a product or service based off the word choices that the customer has chosen.\n",
    "\n",
    "### A3.  Identify a type of neural network capable of performing a text classification task that can be trained to produce useful predictions on text sequences on the selected data set.\n",
    "*Rubric: The submission identifies an industry-relevant type of neural network that can be trained to produce useful text classification predications on text sequences on the selected dataset.*\n",
    "\n",
    "A Bidirectional Recurrent Neural Network (RNN) is capable of performing a sentiment analysis and text classification-related task including Sequence Labeling, Speech, Tagging, and more. Bidirectional RNNs maximize the order sensitivity of an RNN. An LSTM layer was input to the Bidirectional layer in order to catch the complexities that a single RNN might miss. In other words, Bidirectional RNNs have two layers where one of the layers interprets the sequences in chronological order and the other in anti-chronological order."
   ]
  },
  {
   "cell_type": "markdown",
   "metadata": {},
   "source": [
    "# Part II:  Data Preparation\n",
    "\n",
    "## B.  Summarize the data cleaning process by doing the following:\n",
    "\n",
    "### B1.  Perform exploratory data analysis on the chosen dataset, and include an explanation of each of the following elements:\n",
    "*Rubric: The submission performs exploratory data analysis on the chosen dataset and includes an explanation of each of the 4 listed elements. Each element is accurate and aligns to the chosen data set.*\n",
    "\n",
    "- presence of unusual characters (e.g., emojis, non-English characters, etc.)\n",
    "- vocabulary size\n",
    "- proposed word embedding length\n",
    "- statistical justification for the chosen maximum sequence length\n",
    "\n",
    "**Data Set Chosen**\n",
    "\n",
    "Source:\n",
    "Generating Personalized Recipes from Historical User Preferences\n",
    "Bodhisattwa Prasad Majumder*, Shuyang Li*, Jianmo Ni, Julian McAuley\n",
    "EMNLP, 2019\n",
    "pdf"
   ]
  },
  {
   "cell_type": "code",
   "execution_count": 1,
   "metadata": {},
   "outputs": [
    {
     "name": "stdout",
     "output_type": "stream",
     "text": [
      "python version:  3.8.5\n"
     ]
    }
   ],
   "source": [
    "from platform import python_version\n",
    "print(\"python version: \", python_version())"
   ]
  },
  {
   "cell_type": "code",
   "execution_count": 2,
   "metadata": {},
   "outputs": [
    {
     "name": "stderr",
     "output_type": "stream",
     "text": [
      "[nltk_data] Downloading package stopwords to\n",
      "[nltk_data]     C:\\Users\\verab\\AppData\\Roaming\\nltk_data...\n",
      "[nltk_data]   Package stopwords is already up-to-date!\n",
      "[nltk_data] Downloading package punkt to\n",
      "[nltk_data]     C:\\Users\\verab\\AppData\\Roaming\\nltk_data...\n",
      "[nltk_data]   Package punkt is already up-to-date!\n",
      "[nltk_data] Downloading package wordnet to\n",
      "[nltk_data]     C:\\Users\\verab\\AppData\\Roaming\\nltk_data...\n",
      "[nltk_data]   Package wordnet is already up-to-date!\n"
     ]
    },
    {
     "data": {
      "text/plain": [
       "<matplotlib.colors.ListedColormap at 0x245f6563160>"
      ]
     },
     "execution_count": 2,
     "metadata": {},
     "output_type": "execute_result"
    }
   ],
   "source": [
    "# LOADING PYTHON LIBRARIES NEEDED FOR THE ANALYSIS\n",
    "import sys\n",
    "import os\n",
    "\n",
    "#scikit-learn for predictive analysis\n",
    "import sklearn\n",
    "from sklearn import preprocessing\n",
    "from sklearn.preprocessing import OneHotEncoder\n",
    "from sklearn import model_selection\n",
    "import re\n",
    "import tensorflow as tf\n",
    "import keras\n",
    "\n",
    "import tensorflow as ft\n",
    "from tensorflow import keras\n",
    "from keras import preprocessing\n",
    "\n",
    "from tensorflow.keras.preprocessing.text import Tokenizer # To convert input text to tokens\n",
    "from tensorflow.keras.callbacks import EarlyStopping # To stop training at a threshold\n",
    "from tensorflow.keras.models import load_model # To load a saved model\n",
    "from tensorflow.keras.layers import Activation, Dropout, Dense, Embedding, Conv1D, LSTM\n",
    "from keras.layers import Flatten\n",
    "from keras.layers import GlobalMaxPooling1D\n",
    "from tensorflow.keras.models import Sequential\n",
    "from tensorflow.keras.preprocessing.sequence import pad_sequences # For text padding\n",
    "\n",
    "import pandas as pd # For dataframe and data manipulations\n",
    "import numpy as np # Provides array objects for calculations\n",
    "import gzip # For unzipping the input customer review files\n",
    "import seaborn as sns # For visualization like data distribution matrix\n",
    "import nltk # NLP toolkit\n",
    "import re # For regular expression\n",
    "\n",
    "from nltk.corpus import stopwords # For stopword usage\n",
    "from nltk import word_tokenize\n",
    "from nltk.stem import PorterStemmer\n",
    "nltk.download('stopwords')\n",
    "nltk.download('punkt')\n",
    "nltk.download('wordnet')\n",
    "\n",
    "import numpy\n",
    "from scipy.signal import max_len_seq\n",
    "import matplotlib.pyplot as plt\n",
    "%matplotlib inline\n",
    "sns.color_palette(\"vlag\", as_cmap=True)"
   ]
  },
  {
   "cell_type": "code",
   "execution_count": 3,
   "metadata": {},
   "outputs": [],
   "source": [
    "# Aesthetics\n",
    "import warnings\n",
    "\n",
    "warnings.filterwarnings('ignore')\n",
    "pd.set_option('display.max_columns', None)\n",
    "pd.set_option('display.max_rows', None)\n",
    "\n",
    "# plots for explratory data anlysis\n",
    "sns.set_style=('whitegrid')"
   ]
  },
  {
   "cell_type": "code",
   "execution_count": 4,
   "metadata": {},
   "outputs": [],
   "source": [
    "# Import the initial dataset into an intial_df\n",
    "# Read the raw data\n",
    "\n",
    "df_amazon = pd.read_csv('./sentiment labelled sentences/amazon_cells_labelled.txt', delimiter='\\t', header=None)\n",
    "df_amazon.columns=['review','sentiment']\n",
    "\n",
    "df_imdb = pd.read_csv('./sentiment labelled sentences/imdb_labelled.txt', delimiter='\\t', header=None)\n",
    "df_imdb.columns=['review','sentiment']\n",
    "\n",
    "df_yelp = pd.read_csv('./sentiment labelled sentences/yelp_labelled.txt', delimiter='\\t', header=None)\n",
    "df_yelp.columns=['review','sentiment']"
   ]
  },
  {
   "cell_type": "code",
   "execution_count": 5,
   "metadata": {},
   "outputs": [
    {
     "name": "stdout",
     "output_type": "stream",
     "text": [
      "(1000, 2)\n",
      "(748, 2)\n",
      "(1000, 2)\n"
     ]
    }
   ],
   "source": [
    "# Look at the shapre of the data\n",
    "print(df_amazon.shape)\n",
    "print(df_imdb.shape)\n",
    "print(df_yelp.shape)"
   ]
  },
  {
   "cell_type": "code",
   "execution_count": 6,
   "metadata": {
    "scrolled": true
   },
   "outputs": [
    {
     "data": {
      "text/html": [
       "<div>\n",
       "<style scoped>\n",
       "    .dataframe tbody tr th:only-of-type {\n",
       "        vertical-align: middle;\n",
       "    }\n",
       "\n",
       "    .dataframe tbody tr th {\n",
       "        vertical-align: top;\n",
       "    }\n",
       "\n",
       "    .dataframe thead th {\n",
       "        text-align: right;\n",
       "    }\n",
       "</style>\n",
       "<table border=\"1\" class=\"dataframe\">\n",
       "  <thead>\n",
       "    <tr style=\"text-align: right;\">\n",
       "      <th></th>\n",
       "      <th>sentiment</th>\n",
       "    </tr>\n",
       "  </thead>\n",
       "  <tbody>\n",
       "    <tr>\n",
       "      <th>count</th>\n",
       "      <td>1000.00000</td>\n",
       "    </tr>\n",
       "    <tr>\n",
       "      <th>mean</th>\n",
       "      <td>0.50000</td>\n",
       "    </tr>\n",
       "    <tr>\n",
       "      <th>std</th>\n",
       "      <td>0.50025</td>\n",
       "    </tr>\n",
       "    <tr>\n",
       "      <th>min</th>\n",
       "      <td>0.00000</td>\n",
       "    </tr>\n",
       "    <tr>\n",
       "      <th>25%</th>\n",
       "      <td>0.00000</td>\n",
       "    </tr>\n",
       "    <tr>\n",
       "      <th>50%</th>\n",
       "      <td>0.50000</td>\n",
       "    </tr>\n",
       "    <tr>\n",
       "      <th>75%</th>\n",
       "      <td>1.00000</td>\n",
       "    </tr>\n",
       "    <tr>\n",
       "      <th>max</th>\n",
       "      <td>1.00000</td>\n",
       "    </tr>\n",
       "  </tbody>\n",
       "</table>\n",
       "</div>"
      ],
      "text/plain": [
       "        sentiment\n",
       "count  1000.00000\n",
       "mean      0.50000\n",
       "std       0.50025\n",
       "min       0.00000\n",
       "25%       0.00000\n",
       "50%       0.50000\n",
       "75%       1.00000\n",
       "max       1.00000"
      ]
     },
     "execution_count": 6,
     "metadata": {},
     "output_type": "execute_result"
    }
   ],
   "source": [
    "df_amazon.describe()"
   ]
  },
  {
   "cell_type": "code",
   "execution_count": 7,
   "metadata": {
    "scrolled": true
   },
   "outputs": [
    {
     "data": {
      "text/html": [
       "<div>\n",
       "<style scoped>\n",
       "    .dataframe tbody tr th:only-of-type {\n",
       "        vertical-align: middle;\n",
       "    }\n",
       "\n",
       "    .dataframe tbody tr th {\n",
       "        vertical-align: top;\n",
       "    }\n",
       "\n",
       "    .dataframe thead th {\n",
       "        text-align: right;\n",
       "    }\n",
       "</style>\n",
       "<table border=\"1\" class=\"dataframe\">\n",
       "  <thead>\n",
       "    <tr style=\"text-align: right;\">\n",
       "      <th></th>\n",
       "      <th>sentiment</th>\n",
       "    </tr>\n",
       "  </thead>\n",
       "  <tbody>\n",
       "    <tr>\n",
       "      <th>count</th>\n",
       "      <td>748.000000</td>\n",
       "    </tr>\n",
       "    <tr>\n",
       "      <th>mean</th>\n",
       "      <td>0.516043</td>\n",
       "    </tr>\n",
       "    <tr>\n",
       "      <th>std</th>\n",
       "      <td>0.500077</td>\n",
       "    </tr>\n",
       "    <tr>\n",
       "      <th>min</th>\n",
       "      <td>0.000000</td>\n",
       "    </tr>\n",
       "    <tr>\n",
       "      <th>25%</th>\n",
       "      <td>0.000000</td>\n",
       "    </tr>\n",
       "    <tr>\n",
       "      <th>50%</th>\n",
       "      <td>1.000000</td>\n",
       "    </tr>\n",
       "    <tr>\n",
       "      <th>75%</th>\n",
       "      <td>1.000000</td>\n",
       "    </tr>\n",
       "    <tr>\n",
       "      <th>max</th>\n",
       "      <td>1.000000</td>\n",
       "    </tr>\n",
       "  </tbody>\n",
       "</table>\n",
       "</div>"
      ],
      "text/plain": [
       "        sentiment\n",
       "count  748.000000\n",
       "mean     0.516043\n",
       "std      0.500077\n",
       "min      0.000000\n",
       "25%      0.000000\n",
       "50%      1.000000\n",
       "75%      1.000000\n",
       "max      1.000000"
      ]
     },
     "execution_count": 7,
     "metadata": {},
     "output_type": "execute_result"
    }
   ],
   "source": [
    "df_imdb.describe()"
   ]
  },
  {
   "cell_type": "code",
   "execution_count": 8,
   "metadata": {},
   "outputs": [
    {
     "data": {
      "text/html": [
       "<div>\n",
       "<style scoped>\n",
       "    .dataframe tbody tr th:only-of-type {\n",
       "        vertical-align: middle;\n",
       "    }\n",
       "\n",
       "    .dataframe tbody tr th {\n",
       "        vertical-align: top;\n",
       "    }\n",
       "\n",
       "    .dataframe thead th {\n",
       "        text-align: right;\n",
       "    }\n",
       "</style>\n",
       "<table border=\"1\" class=\"dataframe\">\n",
       "  <thead>\n",
       "    <tr style=\"text-align: right;\">\n",
       "      <th></th>\n",
       "      <th>sentiment</th>\n",
       "    </tr>\n",
       "  </thead>\n",
       "  <tbody>\n",
       "    <tr>\n",
       "      <th>count</th>\n",
       "      <td>1000.00000</td>\n",
       "    </tr>\n",
       "    <tr>\n",
       "      <th>mean</th>\n",
       "      <td>0.50000</td>\n",
       "    </tr>\n",
       "    <tr>\n",
       "      <th>std</th>\n",
       "      <td>0.50025</td>\n",
       "    </tr>\n",
       "    <tr>\n",
       "      <th>min</th>\n",
       "      <td>0.00000</td>\n",
       "    </tr>\n",
       "    <tr>\n",
       "      <th>25%</th>\n",
       "      <td>0.00000</td>\n",
       "    </tr>\n",
       "    <tr>\n",
       "      <th>50%</th>\n",
       "      <td>0.50000</td>\n",
       "    </tr>\n",
       "    <tr>\n",
       "      <th>75%</th>\n",
       "      <td>1.00000</td>\n",
       "    </tr>\n",
       "    <tr>\n",
       "      <th>max</th>\n",
       "      <td>1.00000</td>\n",
       "    </tr>\n",
       "  </tbody>\n",
       "</table>\n",
       "</div>"
      ],
      "text/plain": [
       "        sentiment\n",
       "count  1000.00000\n",
       "mean      0.50000\n",
       "std       0.50025\n",
       "min       0.00000\n",
       "25%       0.00000\n",
       "50%       0.50000\n",
       "75%       1.00000\n",
       "max       1.00000"
      ]
     },
     "execution_count": 8,
     "metadata": {},
     "output_type": "execute_result"
    }
   ],
   "source": [
    "df_yelp.describe()"
   ]
  },
  {
   "cell_type": "code",
   "execution_count": 9,
   "metadata": {},
   "outputs": [
    {
     "data": {
      "text/html": [
       "<div>\n",
       "<style scoped>\n",
       "    .dataframe tbody tr th:only-of-type {\n",
       "        vertical-align: middle;\n",
       "    }\n",
       "\n",
       "    .dataframe tbody tr th {\n",
       "        vertical-align: top;\n",
       "    }\n",
       "\n",
       "    .dataframe thead th {\n",
       "        text-align: right;\n",
       "    }\n",
       "</style>\n",
       "<table border=\"1\" class=\"dataframe\">\n",
       "  <thead>\n",
       "    <tr style=\"text-align: right;\">\n",
       "      <th></th>\n",
       "      <th>sentiment</th>\n",
       "    </tr>\n",
       "  </thead>\n",
       "  <tbody>\n",
       "    <tr>\n",
       "      <th>count</th>\n",
       "      <td>2748.000000</td>\n",
       "    </tr>\n",
       "    <tr>\n",
       "      <th>mean</th>\n",
       "      <td>0.504367</td>\n",
       "    </tr>\n",
       "    <tr>\n",
       "      <th>std</th>\n",
       "      <td>0.500072</td>\n",
       "    </tr>\n",
       "    <tr>\n",
       "      <th>min</th>\n",
       "      <td>0.000000</td>\n",
       "    </tr>\n",
       "    <tr>\n",
       "      <th>25%</th>\n",
       "      <td>0.000000</td>\n",
       "    </tr>\n",
       "    <tr>\n",
       "      <th>50%</th>\n",
       "      <td>1.000000</td>\n",
       "    </tr>\n",
       "    <tr>\n",
       "      <th>75%</th>\n",
       "      <td>1.000000</td>\n",
       "    </tr>\n",
       "    <tr>\n",
       "      <th>max</th>\n",
       "      <td>1.000000</td>\n",
       "    </tr>\n",
       "  </tbody>\n",
       "</table>\n",
       "</div>"
      ],
      "text/plain": [
       "         sentiment\n",
       "count  2748.000000\n",
       "mean      0.504367\n",
       "std       0.500072\n",
       "min       0.000000\n",
       "25%       0.000000\n",
       "50%       1.000000\n",
       "75%       1.000000\n",
       "max       1.000000"
      ]
     },
     "execution_count": 9,
     "metadata": {},
     "output_type": "execute_result"
    }
   ],
   "source": [
    "frames = [df_amazon, df_imdb, df_yelp]\n",
    "df = pd.concat(frames)\n",
    "df.describe()"
   ]
  },
  {
   "cell_type": "code",
   "execution_count": 10,
   "metadata": {},
   "outputs": [
    {
     "data": {
      "text/html": [
       "<div>\n",
       "<style scoped>\n",
       "    .dataframe tbody tr th:only-of-type {\n",
       "        vertical-align: middle;\n",
       "    }\n",
       "\n",
       "    .dataframe tbody tr th {\n",
       "        vertical-align: top;\n",
       "    }\n",
       "\n",
       "    .dataframe thead th {\n",
       "        text-align: right;\n",
       "    }\n",
       "</style>\n",
       "<table border=\"1\" class=\"dataframe\">\n",
       "  <thead>\n",
       "    <tr style=\"text-align: right;\">\n",
       "      <th></th>\n",
       "      <th>review</th>\n",
       "      <th>sentiment</th>\n",
       "    </tr>\n",
       "  </thead>\n",
       "  <tbody>\n",
       "    <tr>\n",
       "      <th>0</th>\n",
       "      <td>So there is no way for me to plug it in here in the US unless I go by a converter.</td>\n",
       "      <td>0</td>\n",
       "    </tr>\n",
       "    <tr>\n",
       "      <th>1</th>\n",
       "      <td>Good case, Excellent value.</td>\n",
       "      <td>1</td>\n",
       "    </tr>\n",
       "    <tr>\n",
       "      <th>2</th>\n",
       "      <td>Great for the jawbone.</td>\n",
       "      <td>1</td>\n",
       "    </tr>\n",
       "    <tr>\n",
       "      <th>3</th>\n",
       "      <td>Tied to charger for conversations lasting more than 45 minutes.MAJOR PROBLEMS!!</td>\n",
       "      <td>0</td>\n",
       "    </tr>\n",
       "    <tr>\n",
       "      <th>4</th>\n",
       "      <td>The mic is great.</td>\n",
       "      <td>1</td>\n",
       "    </tr>\n",
       "    <tr>\n",
       "      <th>5</th>\n",
       "      <td>I have to jiggle the plug to get it to line up right to get decent volume.</td>\n",
       "      <td>0</td>\n",
       "    </tr>\n",
       "    <tr>\n",
       "      <th>6</th>\n",
       "      <td>If you have several dozen or several hundred contacts, then imagine the fun of sending each of them one by one.</td>\n",
       "      <td>0</td>\n",
       "    </tr>\n",
       "    <tr>\n",
       "      <th>7</th>\n",
       "      <td>If you are Razr owner...you must have this!</td>\n",
       "      <td>1</td>\n",
       "    </tr>\n",
       "    <tr>\n",
       "      <th>8</th>\n",
       "      <td>Needless to say, I wasted my money.</td>\n",
       "      <td>0</td>\n",
       "    </tr>\n",
       "    <tr>\n",
       "      <th>9</th>\n",
       "      <td>What a waste of money and time!.</td>\n",
       "      <td>0</td>\n",
       "    </tr>\n",
       "  </tbody>\n",
       "</table>\n",
       "</div>"
      ],
      "text/plain": [
       "                                                                                                            review  \\\n",
       "0                               So there is no way for me to plug it in here in the US unless I go by a converter.   \n",
       "1                                                                                      Good case, Excellent value.   \n",
       "2                                                                                           Great for the jawbone.   \n",
       "3                                  Tied to charger for conversations lasting more than 45 minutes.MAJOR PROBLEMS!!   \n",
       "4                                                                                                The mic is great.   \n",
       "5                                       I have to jiggle the plug to get it to line up right to get decent volume.   \n",
       "6  If you have several dozen or several hundred contacts, then imagine the fun of sending each of them one by one.   \n",
       "7                                                                      If you are Razr owner...you must have this!   \n",
       "8                                                                              Needless to say, I wasted my money.   \n",
       "9                                                                                 What a waste of money and time!.   \n",
       "\n",
       "   sentiment  \n",
       "0          0  \n",
       "1          1  \n",
       "2          1  \n",
       "3          0  \n",
       "4          1  \n",
       "5          0  \n",
       "6          0  \n",
       "7          1  \n",
       "8          0  \n",
       "9          0  "
      ]
     },
     "execution_count": 10,
     "metadata": {},
     "output_type": "execute_result"
    }
   ],
   "source": [
    "# presence of unusual characters (e.g., emojis, non-English characters, etc.)\n",
    "pd.set_option('display.max_colwidth', 5000)\n",
    "df = df_amazon\n",
    "df.head(10)"
   ]
  },
  {
   "cell_type": "code",
   "execution_count": 11,
   "metadata": {},
   "outputs": [
    {
     "data": {
      "text/plain": [
       "<AxesSubplot:xlabel='sentiment', ylabel='count'>"
      ]
     },
     "execution_count": 11,
     "metadata": {},
     "output_type": "execute_result"
    },
    {
     "data": {
      "image/png": "[encoded data removed]",
      "text/plain": [
       "<Figure size 432x288 with 1 Axes>"
      ]
     },
     "metadata": {
      "needs_background": "light"
     },
     "output_type": "display_data"
    }
   ],
   "source": [
    "# Verify the distribution of the data\n",
    "sns.countplot(data=df, x='sentiment')"
   ]
  },
  {
   "cell_type": "markdown",
   "metadata": {},
   "source": [
    "There are slightly more positive reviews than negative reviews."
   ]
  },
  {
   "cell_type": "markdown",
   "metadata": {},
   "source": [
    "# Data Cleaning"
   ]
  },
  {
   "cell_type": "code",
   "execution_count": 12,
   "metadata": {},
   "outputs": [
    {
     "data": {
      "text/plain": [
       "dtype('int64')"
      ]
     },
     "execution_count": 12,
     "metadata": {},
     "output_type": "execute_result"
    }
   ],
   "source": [
    "# Check that the data type of the sentiment column is an integer\n",
    "df['sentiment'].dtype"
   ]
  },
  {
   "cell_type": "code",
   "execution_count": 13,
   "metadata": {},
   "outputs": [],
   "source": [
    "# Drop null values\n",
    "df = df.dropna()"
   ]
  },
  {
   "cell_type": "code",
   "execution_count": 14,
   "metadata": {},
   "outputs": [],
   "source": [
    "# Convert any non string values into string values\n",
    "for i in range(0, len(df)-1):\n",
    "    if type(df.iloc[i] ['review'])!=str:\n",
    "        df.iloc[i] ['review'] = str(df.iloc[i] ['review'])"
   ]
  },
  {
   "cell_type": "code",
   "execution_count": 15,
   "metadata": {},
   "outputs": [
    {
     "name": "stdout",
     "output_type": "stream",
     "text": [
      "['S', 'o', ' ', 't', 'h', 'e', 'r', 'i', 's', 'n', 'w', 'a', 'y', 'f', 'm', 'p', 'l', 'u', 'g', 'U', 'I', 'b', 'c', 'v', '.', 'G', 'd', ',', 'E', 'x', 'j', 'T', '4', '5', 'M', 'A', 'J', 'O', 'R', 'P', 'B', 'L', '!', 'z', 'N', 'W', 'q', 'H', '+', 'V', '\"', 'Y', 'D', 'F', 'k', \"'\", 'K', 'C', '/', '7', '3', '6', '8', '0', '2', '?', 'Z', '-', '1', ':', ')', '(', 'Q', '&', '$', '*', ';', 'X', '%', '9', '#', '[', ']']\n"
     ]
    }
   ],
   "source": [
    "# Remove unusual characters: uppercase letters, punctuation marks, emoticons, and non-English characters\n",
    "reviews = df['review']\n",
    "list_of_characters = []\n",
    "for r in reviews:\n",
    "    for char in r:\n",
    "        if char not in list_of_characters:\n",
    "            list_of_characters.append(char)\n",
    "print(list_of_characters)"
   ]
  },
  {
   "cell_type": "code",
   "execution_count": 16,
   "metadata": {},
   "outputs": [],
   "source": [
    "# Tokenize sentences into a list of tokens and remove any stop words"
   ]
  },
  {
   "cell_type": "code",
   "execution_count": 17,
   "metadata": {},
   "outputs": [
    {
     "name": "stdout",
     "output_type": "stream",
     "text": [
      "['way plug u unless go converter', 'good case excellent value', 'great jawbone', 'tied charger conversation lasting 45 minute major problem', 'mic great', 'jiggle plug get line right get decent volume', 'several dozen several hundred contact imagine fun sending one one', 'razr owner must', 'needle say wasted money', 'waste money time', 'sound quality great', 'wa impressed going original battery extended battery', 'two seperated mere 5 ft started notice excessive static garbled sound headset', 'good quality though', 'design odd ear clip comfortable', 'highly recommend one ha blue tooth phone', 'advise everyone fooled', 'far good', 'work great', 'click place way make wonder long mechanism would last', 'went motorola website followed direction could get pair', 'bought use kindle fire absolutely loved', 'commercial misleading', 'yet run new battery two bar three day without charging', 'bought mother problem battery', 'great pocket pc phone combination', 'owned phone 7 month say best mobile phone', 'think instruction provided helpful', 'people couldnt hear talk pull earphone talk phone', 'hold charge', 'simple little phone use breakage unacceptible', 'product ideal people like whose ear sensitive', 'unusable moving car freeway speed', 'two year left contract hate phone', 'car charger well ac charger included make sure never run juice highy recommended', 'need least 3 min get phone book time first turn phone battery life short', 'ha kept well', 'poor talk time performance', 'case great work fine 680', 'worthless product', 'ha great camera thats 2mp pic nice clear great picture quality', 'wa impressed product', 'nice headset priced right', 'hear garbage audio', 'excellent bluetooth headset', 'ha feature want', 'right mind gon na buy battery', 'arguing verizon regarding dropped call returned phone two day', 'case seems well made', 'disappointed battery', 'loud enough turn like', 'good protection doe make phone bulky', 'usable keyboard actually turn pda real world useful machine instead neat gadget', 'phone pretty sturdy never large problem', 'love thing', 'everything fine reasonable price e', 'disappointed', 'even dropped phone stream wa submerged 15 second still work great', 'happy 510 complaint one regarding sound quality end', 'button bad', 'essentially forget microsoft tech support', 'really recommend faceplate since look nice elegant cool', 'headphone great find think perhaps best purchase made last several year seriously', 'buy different phone', 'hold phone particular angle party hear clearly', 'one big drawback mp3 player button phone front cover let pause skip song lock second', 'week later activated suddenly died', 'feel comfortable headset wear glass get way sometimes', 'great ipod', 'device great several situation 1', 'mic work', 'even bmw 3 series fairly quiet trouble hearing person saying', 'great choice', 'nice docking station home work', 'beautiful phone', 'love product', 'buy d807 wrongly advertised d807', 'great little item', 'love phone handy ha lot feature', 'purchased within 2 day wa longer working', 'wear everyday hold well', 'good bargain', 'well packaged arrived time work intended', 'battery run quickly', 'item worked great broke 6 month use', 'headset easy use everyone love', 'phone work great', 'construction headset poor', 'product wa excellent work better verizon one boy wa cheaper', 'phone load super', 'product cost much one doe expect work far better greater ease thing doe', 'made sturdy', 'worked great', 'ear bud play music one ear', 'dont waste money', 'order', 'plan use car forget', 'found product waaay big', 'best found far tried 2 bluetooths one ha best quality listener well ease using', 'disappointed decision', 'integrated seamlessly motorola razr phone', 'buyer beware could flush money right toilet', 'definitely bargain', 'price wa good free shipping wa good purchase', 'received supposedly new motorola 375 apparently wa match phone charger', 'pro good camera nice picture also ha cool style like black white', 'huge design flaw unless using correctly think case', 'love 350 headset jabra350 bluetooth headset great reception good ear piece comfortable fit', 'camera although rated impressive 1 3 megapixels render image fall well expectation relatively high resolution', 'purcashed car charger doe work', 'sound quality end excellent use headset call wife ask wife use headset call 2', 'phone slim light display beautiful', 'little geeky think thats sex toast rock ooze sex right battery embedded sleek stylish leather case', 'great product fast shipping', 'absolutely great', 'keyboard nice compromise full qwerty basic cell phone number keypad', 'got phone around end may completely unhappy', 'comfortable ear', 'ha winner u', 'setup simpler', 'tried several different earpiece cell phone jabra one first one found fit ear comfortably', 'could get strong enough signal', 'iam pleased purchase', 'bad quality', 'get job done', 'great audio', 'basically service wa bad', 'work cell phone plug set charger', 'bluetooth week really like', 'bt headset wa disapoinment', 'small even realize getting used', 'accompanied software almost brilliant', 'headset work great wa packaged nicely avoid damage', 'definitly recommend', 'buyer careful', 'majority logitech earbud headset failed', 'good stuff price', 'headset work peachy keen', 'house wa getting dropped coverage upstairs coverage basement', 'voice recognition tremendous', 'waste', 'several different 2 minute call experienced 5 drop wa area 5 bar', 'wa happy item', 'disappointed', 'phone take forever charge like 2 5 hour literally', 'got phone reccomendation relative glad', 'waste time', 'reception poor', 'item stated included description included', '3 month screen went black sudden', 'wa hoping', 'audio quality poor poor', 'absolutely problem headset linking 8530 blackberry curve', 'know sound funny seemed like sketchy technology work well well one work great', 'bought 5 wired headphone sound better', 'phone fast sending kind message web browsing significantly faster previous phone used', 'nice quality build unlike cheap', 'item fantastic work perfectly', 'love color', 'w810i superb', 'whine internet go use thing le like', 'great charger', 'essentially communication tool doe communicate', 'work like charm work one got phone', 'still maintain monkey make headphone obviously share enough dna copy design human', 'great value', 'work bougth l7c working', 'look sharp screen nice clear great graphic', 'last long', 'one thing hate mode set button side', 'excellent service', 'thank wasting money', 'audio quality poor', 'igo charger tip really great', 'file browser offer option one need handsfree great', 'superb phone great network', 'connected wife bluetooth motorola hs850 phone worked like charm whether phone wa pocket case', 'put latest v1 15g like slow crawl lock every', 'recognizes phone storage device', 'like loud buzzing override conversation phone', 'buy product', 'bluetoooth headset time still comfortable way fit ear', 'sound quality good functionality awesome', 'phone thorn side really abhor', 'recently problem could stay connected 10 minute disconnected', 'incredible', 'design flaw', 'great phone', 'waste 13 buck', 'check voice mail night keypad backlight turn second first message lost', 'replacement died week', 'ring tone overall good phone buy', 'lately extremely nice helpful phone', 'problem wit hit dropping signal', 'impressed', 'light weight hardly notice', 'love thin', 'bad choice', 'pleather case fit', 'useless phone simply deaf', 'color even prettier thought would graphic incredibly sharp', 'think wa good investment', 'make strange ticking noise end call', 'best electronics available fm transmitter', 'battery last hour', 'great headset impressed h500', '1 2 mega pixel camera part phone reasonably good7', 'nearly 2 year ha worked great', 'good transmit audio', 'sending back', 'bother contacting company dollar product learned lesson bought form online anyway', 'hate earbugs avoid phone mean', 'great price also', 'range decent able roam around house phone living room reception sound quality issue', 'fast service', 'would highly recommend', 'would recommend', 'also like button felt like would crack use', 'worst phone ever', 'still infatuated phone', 'freeze frequently4', 'kind embarrassing use look mostly embarrassing child like company', 'simple lightweight great fit', 'expected better consumer experience motorola', 'horrible tick sound background call never experienced', 'certainly comfortable functionality decent', 'usually like headband one lightweight mess hair', 'bit disappointed', 'phone year tell great', 'ordered sony ericsson w810i think worked thats first used', 'battery completely useless', 'big waste time', 'waste one', 'great sound service', 'really pleased product far', 'one favorite purchase ever', 'best bluetooth market', 'authentic leather nice shine comfort recommend case', 'wa excited get headset thought wa really cute', 'make mistake', 'big disappointment calendar sync', 'phone wa unusable wa new', 'worst customer service ever', 'additional ear gel provided instruction whatsoever', 'defeat purpose bluetooth headset', 'worth every penny', 'excellent wallet type phone case', 'nice headphone price work great', 'internet excrutiatingly slow', 'comfortable wear well probably important aspect using case', 'fit like glove strong secure durable', 'gosh best phone ever', 'attractive appears good quality', 'love feature form factor', 'product strong rubber petroleum smell wa unbearable caused return', 'poor quality service', 'cable look thin flimsy scary', 'great earpiece', 'excellent hand free tool', 'great using home stereo', 'good product incredible value', 'month worked flawlessly far', 'work great', 'absolutel junk', 'one work either', 'battery life real good', 'returned 8 hour later', 'great item', 'waste money', 'love headset', 'drain player may also potentially fry', 'worked perfectly', 'unreliable giving', 'gave 5 star sound quality', 'avoid one', 'reversible plug work great', 'wasted little money earpiece', 'good phone', 'best rotating feature helpful', 'comfort whole family', 'good product good seller', 'love bluetooth', 'first wear well', 'impressed headset plantronics', 'got wa small adorable', 'great phone', 'recommend buying product', 'piece junk', 'poorly contstruct hinge', 'item great installed let charged overnite ha working good every since problem', 'great phone', 'buy', 'excellent phone', 'purchase phone', 'voice recognition thru handset excellent', 'hand best phone ever', 'work great cat attacked phone scratched protective strip instead destroying screen', 'one work wa priced right', 'customer service wa terrible', 'battery life still long enough motorola razor v3i', 'sending back', 'know made wise decision', 'someone shouldve invented sooner', 'good price', 'everything worked first try device wa certainly engineered clever way construction feel good', 'received quickly work great', 'ha working great', 'many people complained found headset microphone wa weak', '5 year old nokia 2160 tracfone hold charge lot better', 'care consumer one bit', 'good battery got really fast', 'instruction manual lacking', 'also slim enough fit alarm clock docking station without removing case', 'phone hold charge like wa new', 'battery unreliable well service use antena', 'uncomfortable sound quality quite poor compared phone razr previous wired headset plugged lg', 'gotten lot compliment', 'definitely must state doe allow cell phone usage driving', 'want money back', 'love device', 'also happy price', 'ordered product first wa unhappy immediately', 'ngage still lacking earbuds', 'wa able voice dialing car problem', '2 3 bar cell phone home cant hear anything', 'good item low price', 'however riingtones best neither game', 'plug work well', 'amazon suck', 'rip charge shipping', 'comfortable', 'battery working well replacement original came phone 2 year ago', 'reception excellent', 'fit comfortably either ear sound clear loud charge last couple day', 'clear quality sound mess sound ipod since sound button headset', '1 long lasting battery recharge frequentyly flip phone 2', 'obviously problem adhesive', 'disappointing', 'wa inexpensive piece would still expected better quality', 'practically useless add kind boost reception bought', 'excellent sound quality', 'wa happy', 'piece junk broke phone 2 day', 'new battery work great phone', 'worst customer service', 'dropped phone time say even concrete phone still great knock wood', 'reception terrible full static', 'good audio quality', 'little device ha transformed organizational capability made life whole lot easier', 'wa sitting vehicle cradle belt headset lost signal', 'jerk phone', 'work like charm work advertised', 'comfortable nice range good battery life', 'network coverage los angeles horrible', 'excellent starter wireless headset', 'loudspeaker option great bumper light appealing', 'thing think could improve sound leak headset', 'first reception suck never 2 bar ever', 'phone get extremely hot', 'microphone also work well according people called applifies everything', 'nice design quality', 'also phone dropped case going save specially dropped face', 'light easy use ha clear reception transmission', 'bad fit way big', 'definitely wa good s11', 'awesome device', 'waste money', 'ordered motorola data cable got well finished working product', 'love phone', 'wa looking headset long time got happier', 'drivng along headset start ringing reason', 'display excellent camera good year', 'battery life also great', 'worst phone ever month', 'good item worked started problem auto reverse tape player', 'embarassing also ear hurt try push ear plug ear', 'protects phone side', 'average phone bad battery life operates weak network', 'clear skype call long battery life long range', 'soyo technology suck', 'great hand free device', 'even take self portrait outside exterior display cool', 'problem others mentioned', 'trying many many handsfree gadget one finally work well', 'magical help', 'worst piece crap ever along verizon customer service', 'poor sound quality', 'best phone market', 'worked well', 'company shipped product promptly work well', 'exactly wanted', 'picture resolution far comparably priced phone offering today', 'great deal', 'excellent product satisfied purchase', 'highly recommend encourage people give try', 'better expect', 'using earpiece left right thing stay ear', 'great product price', 'sound good reasonably priced effective simple', 'still waiting sure item would work well ever recieve', 'disappointment', 'prompt service', 'excellent product price', 'pleased headset', 'waste money time', 'especially love long battery life', 'stupid keep buying new charger car charger cradle headphone car kit every time new phone come', 'work great', 'plantronics bluetooth excelent buy', 'came verizon cingulair ha nicer cell phone first thing noticed wa really bad service', 'looking new earpiece', 'highly recommend device everyone', 'jawbone era awesome', 'received white colored battery go dead couple hoursthe original used last week still last longer thereplacement', 'year battery went completely dead headset', 'used several phone two year one best', 'awesome new look fall 2000', 'first phone ha cheaply made', 'att clear sound distorted yell talk', 'plastic break really easy clip', 'price good', 'make mistake', 'oh forgot also mention weird color effect ha phone', 'using iriver spinn case fit fine', 'also area unit broke fond magnetic strap', 'overall psyched phone ha appointment contact get great reception', 'every thing phone work perfectly like', 'another note phone appearance really look rather bland especially black model', 'really easy', 'sanyo ha survived dozen drop blacktop without ill effect', 'fantastic earphone', 'find cell phone right away enter car', 'low quality', 'highly recommend modest priced cellular phone', 'doe get better reception clarity phone', 'warning stay away', 'wish could return unit get back money', 'awsome device work great', 'used talk 1 1 1 2 hour battery would literally drained dying', 'find bad unit come one earpad would recommend anyone', 'displeased', 'might gotten defect would risk buying built quality alone', 'made case small difficult install', 'restored phone like new performance', 'would recommend purchasing jabra jx 10 series 2 work flawlessly moto q go figure', 'searched internet found one best value', 'doe fit', 'happy product', 'screen size big key pad lit well enough camera quality excellent camera phone', 'really nothing bad say headset', 'glad found product amazon hard find high priced', 'portable work', 'colleague get great reception little expensive performance great', 'even fully charged went bed turned blue tooth wi fi noticed 20 left morning', 'also problem phone reading memory card always turn', 'good wearing hat sunglass', 'timely shipment quality product', 'nice solid keyboard', 'well made fit surefire gx2 perfectly', 'horrible phone', 'bt50 battery junk', 'would recommend others', 'cant get software work computer', 'disappointed', 'poor voice clarity', 'battery work great', 'buyer remorse one', 'disappointed accessoryone', 'find inexcusable probably returning phone perhaps changing carrier', 'look great strong', 'tmobile service 2 3 year pretty happy', 'update procedure difficult cumbersome', 'disappointment hate anything go ear', 'great software motorolas', 'delivery wa time', 'easy use', 'uncomfortable ear use lg vx9900 env', 'volume switch rocketed unit destination unknown', 'hold charge long time reasonably comfortable long wearing condition quality sound tremendous', 'like return', 'keyboard really worthwhile usefulness sturdy enough expect problem', 'verizon bill however difficult understand even though pricing plan simple', 'charging overnight battery work great', 'regret', 'love phone', 'disappointment', 'user friendly', 'unfortunately ability actually know receiving call rather important feature phone pitiful respect', 'exchanged phone even problem', 'result phone either stuck max volume mute', 'pda rock', 'super charged use small hybrid palmtop camera cellphone excels role', 'would definitely recommend jabra bt250v looking comfort clarity great price', 'verizon 2 year ago really liked service', 'pretty piece junk', 'plug wa wrong size', 'work described', 'save money item 11 month', 'bad purchase', 'well im satisfied', 'bose noise cancelling amazing important nyc commuter', 'battery excellent bargain', 'defective crap', 'would given star wa able', 'wear glass fit fine', 'sound quality device unacceptable unless really quiet area almost hear nothing', 'would recommend item anyone', 'holster arrived match photo ad', 'great problem', 'earlier review noted plug charger nothing happens', 'frog phone charm adorable eye catching', 'never know pushed hard enough right number time function want', 'sound clear people talk amazed quality', 'got aluminum case new palm vx worked really well ha protected handheld perfectly far', 'good product well made', 'mobile phone tool must', 'impressed job motorola sturdiness phone', 'received order well within shipping timeframe everything wa good working order overall excited source', 'phone sturdy waterproof', 'impressed would recommend item anyone', 'complaint standard sound volume little low even turned 5 5', 'thanks amazon thing need good price', 'ended sliding edge pant back pocket instead', 'go store bought new nokia phone working great', 'work great', 'really ugly', 'horrible switch 3 time', 'noise shield incrediable', 'real improvement', 'razr battery good buy', 'keep good work amazon', 'refuse refund replace', 'unfortunately easy accidentally activate gentle touch button accidentally touch phone face listening', 'basically threw money window nothing', 'great case price', 'took wa one drop 6 inch kitchen counter wa cracked impressed laughing', 'bluetooth range good day ago left phone trunk got call carried conversation without hitch', 'small sleek impressive looking practical setup ample storage place', 'eargels channel sound directly ear seem increase sound volume clarity', 'none new one ever quite worked properly', 'glad purchased', 'missed numerous call reason', 'perhaps phone defective people hear use', 'buy product', 'sucked stuff doe work phone', 'shifting bubbling peeling even scratch nothing happier new one droid', 'worst software ever used could give zero star would', 'trying make call exercise frustration', 'case flimsy piece plastic ha front side protection whatsoever', 'jabra earset wa happy sound quality especially outgoing better', 'love camera really pretty good quality', 'thank great service', 'total package', 'seller understanding patient would definitely buy', 'give wirefly 1 star contact cingular inform practice', 'aggravating', 'great product price', 'purchased family friend enjoy clarity ease use', 'virgin wireless rock doe cheap little phone', 'none work buy', 'muddy low quality sound casing around wire insert wa poorly super glued slid', 'please dont waste money', 'quite satisfied purchase', 'looking good quality motorola headset keep looking', 'yet plantronincs continues use flawed charger design', 'disapointing result', 'cumbersome design', 'great wa new packaged nice work good problem came le time expected', 'great product', 'piece crap', 'experience wa terrible wa fourth bluetooth headset wa much comfortable last jabra hated', 'fix problem', 'worst ever', 'happy', 'trouble accessing internet downloading ringtones performing function', 'barely ever hear constantly saying', 'battery life highly unacceptable', 'company joke', 'doe everything description said would', 'due happening every call wa forced stop using headset', 'work great car charger especially plug two adapter time', 'verizon tech support walked procedure none worked ended hard set wiping data', 'voice quality signal strength dropped call', 'play louder speaker size price low would think quality lacking however', 'better expected', 'feel poorly constructed menu difficult navigate button recessed difficult push', 'battery holding well', 'also difficult put recommend avoiding product', 'used two day always easy hear', 'got car charger even week charger wa broken went plug started smoking', 'sprint terrible customer service', 'linked phone without effort', 'cool', 'easy use', 'better new', 'possesed get junk idea', 'piece trash', 'pretty good product', 'great phone', 'price amazon excellent product would highly recommend', 'research development division obviously know', 'real killer volume course breaking', 'phone working fine', 'happy product', 'poor construction', 'infuriating', 'overall would recommend phone new walkman', 'sprint charge service', 'cheap feel look cheap', 'fit ear well comfortable', 'work europe asia', 'clipping belt deffinitely make feel like 50 cent coming', 'like design look jabra behing ear headset 5020 pretty comfortible wear 24 hour day without pain ear', 'wa amazed quick arrival two original lg cell phone battery fraction price', 'worst phone samsung crap crappy samsung e715 worst ever seeen', 'charger worked week completely stopped charging phone', 'poor product', 'however needed better instruction', 'need two hand operate screen software interface decade old compete new software design', 'worked well paired treo 700w skype headset pc using usb bluetooth transceiver', 'steer clear product go genuine palm replacementr pen come three pack', 'buy buyit suck', 'great product sure beat using finger', 'plus seriously believe worth steep price point', 'case tried normally fall apart month one seems long haul', 'dissapointing performance', 'make mistake please buy phone', 'phone might well worst ever brand', 'case wa le extra originally put later discarded scratched ear', 'recommend igo anyone different brand cell phone mp3 player family', 'bother go store', 'posted detailed comment grey black phone fire red great color', 'problem item would order needed', 'get pay guess', 'software great job could also make ringtones form existing cd without internet connection', 'im surprised good quality car charger much review', 'fabulous', 'however bt headset currently good real time game like first person shooter since audio delay mess', 'used bitpim free program find internet transfer data phone price cable wa excellent', 'disappointing accessory good manufacturer', 'performed awful muffled tinny incoming sound severe echo end call', 'wind resistant', 'obviously terrible customer service get pay', 'last forever overly expensive replace easy operate sound much better others tried', 'contacted company told although unit wa still warranty produce receipt wa luck', 'linksys way exchange bad phone refurb unit something', 'phone sturdy nokia bar phone', 'great phone', 'placed treo case wa snug wa lot extra room side', 'pleased', 'battery terrible', 'found product easy set use', 'earpiece large heavy keep falling ear', 'utter crap sound quality terrible', 'charger arrived within promised timeframe work', 'ear loop needed tiny sound great', 'finally three four time spring latch broke could use longer visor', 'handsfree part work fine car try download address book treo reboots overall still rate device high', 'talk useless customer service', 'felt light tinny', 'doe fit palm tungsten e2 broke first time tried plug', 'happy purchase good quality low price', 'love look feel samsung flipphones', 'well designed sharp blue nice color', 'doe everything', 'could recommend', 'nice sound', 'look good picture case wa huge disappointment', 'much le jawbone wa going replace', 'setup went smoothly', 'extremely slow take forever anything', 'must study anyone interested worst sin industrial design', 'first thing happened wa tracking wa', 'well made easy access phone ha handy detachable belt clip', 'continue pairing periodically since somehow kept dropping', 'upload ringtones third party', 'bluetooth doe work phone lock screen flash make call randomly pocket locked', 'truly awful', 'work fine motorola 325 cellphone lot better worn battery', 'volume ringer real good choice loud', 'none tone acceptable', 'camera color balance awful', 'product clearly ready prime time care cool look tell call coming worthless', 'love ringtones upbeat', 'chinese forgery abound', 'easy pair samsung cell', 'instruction explain microphone jack could used', 'would advise purchase item never worked well', 'bad pay month service', 'work well', 'nokia ca 42 usb cable work phone', 'clear crisp sound', 'use smallest earpiece provided stay pretty well', 'biggest complaint battery drain superfast', 'design might ergonomic theory could stand ear', 'buy want use holster', 'phone also take great picture even video clip', 'make look cool', 'ear occupied background distracting', 'comfortable fit need headset comfortable least hour time entire day', 'also phone seem accept anything except cbr mp3s preferably ripped window medium player', 'beat price', 'come strong light use light camera shot even flash signal seriously', 'lightweight work well', 'beware', 'love cable allows connect mini usb device pc', 'anyone near hear part conversation', 'cool case open allowing screen get scratched', 'bought phone replacement startac regretted since', 'appears actually outperform original battery china came v325i', 'store anything phone number sim', 'last le 3o minute actually try use phone wife ha phone problem', 'poor quality', 'jabra ear gel r best', 'worth', 'phone crashed completely get replaced', 'quit working used 18 month purchased another one best headset ever owned', 'unfortunately recharge iphone 4 despite connecting multiple power source imac external battery wall outlet etc', 'wa great phone', 'simply want small flip phone look elsewhere extra bell whistle mediocre', 'good value work fine power via usb car wall outlet', 'phone slide around car grip prevents phone slipping hand', 'simply best bluetooth headset sound quality', 'think plan one sure last moto phone', 'span hour two people exclaim whoa new phone tv', 'always used corded headset freedom wireless helpful', 'case ha passed one year mark show sign wear 100 functional', 'leather nice soft fit tight cut face good shape', 'ha everything need ask', 'receiving using product 2 day broke', 'product great make working lot easier go copier waiting hold something', 'none three size sent headset would stay ear', 'mobile ha best customer service anywhere', 'arrived quickly much le expensive others sold', 'tried 2 unit failed within 2 month pro', 'provides good protection look classy', 'krussel always good', 'tracfonewebsite user friendly make easy toactivate etc', 'design good 4', 'great reception time', 'would highly recommend product', 'use unit sunglass good texas', 'dit work time nokia 5320', 'bought mainly charger broke soon purchasing', 'like loud buzzing override conversation phone', 'fantastic buy get whatever next phone', 'stay away store careful', 'blueant supertooth hand free phone speaker awesome', 'doe fit', 'item arrived quickly work great metro pc samsung sch r450 slider phone sony premium sound ear plug', 'light ha plenty battery capacity confortable wear somewhat extended period time', 'disappointing', 'blue ant easy use', 'cheap hey work wa pleasantly suprised given low cost item', 'camera phone may used dustpan indoors rather using disposable', 'day later puff smoke came phone use', 'convenient simple use get job done make car ride much smoother', 'nano stated son wa dissapointed', 'sound quality excellent well', 'best headset used', 'would reccommend', 'around year carry highest quality anti glare screen protector found date', 'wanted', 'particular model would work motorola q smartphone', 'wont work right atleast', 'addition feel amp look phone lightweight cheap plastic', 'warranty problem reoccure bottom line put money somewhere else cingular support', 'really wanted plantronics 510 right one ha many issue good', 'great product', 'crisp clear', 'first charge kept going dead 12 minute', 'cheap plastic creak like old wooden floor', 'get absolutely horrible reception apartment phone problem', 'reception ha generally good', 'excellent sound battery life inconspicuous boot', 'great bluetooth', 'highly recommend case', 'worthwhile', 'great deal', 'phone got year old slowly breaking despite much care part', 'sorry made purchase', 'bought hoping could make bluetooth headset fit better thing made impossible wear', 'treo mobile refused replace forced buy another phone without kind upgrade discount', 'wa horrible', 'think would hold securly belt', 'allows possibility double booking date time first', 'work 2 week break', 'simple use like', 'great tool entertainment communication data management oh sure use activesync 4 2 optimal data synchronization result', 'use case smell disgusting', 'wanted', '2 case would order another', 'great phone', 'bought battery coupon amazon happy purchase', 'internet access wa fine rare instance worked', 'perfect ps3', 'five star plus plus', 'good quality bargain bought bought cheapy big lot sounded awful people end hear', '50 drain', 'tried talking real loud shouting telephone get old wa still told great', 'good work fine', 'price wa great deal', 'great price', 'wind completely useless', 'yes shiny front side love', 'doe work', 'first thought wa grtting good deal 7 44 plugged phone v3c razr', 'reception headset excellent', '2 thumb seller', 'verizon lg phone work well together good reception range exceeds 20 foot line sight', 'improper description return', '1 work 2 comfortable', 'battery charge life quite long', 'jabra eargels fit ear well', 'battery ha life', 'checked everywhere feature really disappointing', 'product exactly described', 'get signal verizon phone', 'job', 'would recommend', 'plan ordering', 'said phone camera nice many cool effect play video decent well', 'satisfied cell phone day one', 'keep getting better better third one numerous palm', 'awkward use unreliable', 'shipping time wa also quick', 'good hoped', 'good case', 'work', 'really good product', 'unfortunately work', 'three broke within two month use', 'dont buy', 'father ha v265 battery dying', 'however ear pad come easily one week lost one', 'call drop phone come screen go black worst stop ringing intermittently', 'horrible horrible protector', 'like nokia either', 'reaching bottom row uncomfortable send end key expect 3', 'bought nokia cell phone week ago wa nightmare', 'would take long describe bad customer service experience ha amazon', 'disappointing thing wa wa speakerphone', 'terrible car accept cassette', 'product useless since doe enough charging current charge 2 cellphone wa planning use', 'say', 'stay away q', 'used dirty', 'unreliable service mobile', 'good enough price', 'bought two neither charge', 'look nice', 'excellent tool especially paired phone auto answer', 'read review problem', 'product cover important light sensor ear outlet', 'comfortable hand', 'doe work', 'poor reliability', 'work', 'take picture battery drop bar start beeping letting know dieing', 'terrible product waste money', 'last time buying', 'wa waste money', 'far ha worked like charm', 'week far good', 'case best part download picture laptop using ir even send picture laptop phone', 'would recommend item', 'choice headset year great sound good volume good noise cancellation', 'nice case feel good hand', 'item received wa counterfeit', 'really good far probably best bt headset ever', 'work fine', 'received headset good time wa happy', 'wa pleased see could replace well travled swivel holster blackberry flip', 'sister ha one also love', 'good quality', 'far worst purchase made amazon', 'excellent dual purpose headset', 'excellent', 'doe work listening music cingular 8125', 'seems completely secure holding belt keeping iphone inside', 'bottowm line another worthless cheap gimmick sprint', 'trouble volume', 'good thing wa fit comfortably small ear', 'warning buy', 'pairing iphone could happier far', 'open battery connection broken device turned', 'want clip going top ear causing discomfort', 'best headset ever', 'trust website expect helpful support', 'wa loud glad say plantronics 510 maintains flawless connection cell static normal use', 'speaker low quality making ring tone sound cheap', 'fit comfortably came three size earbud tip', 'excellent product price', 'bad reception', 'product high quality chinese crap', 'wa quite comfortable ear', 'great phone', 'buy product fails', 'everything product wrong first', 'pairing two device wa easy barely took couple minute started making call voice dialing feature', 'wa utterly confusing first caused lose couple important contact', 'terrible phone holder', 'cutout button placed perfectly', 'love able use one headset land line cell', 'problem ear loop made weak material break easily', 'nearly good looking amazon picture make look', 'despite flaw case exceptional quality well worth additional cost owning official oem product', 'stupid', 'hear driving car usually even put loudest setting', 'seller shipped quickly much cheaper competitor', 'good show samsung', 'bought 10 saved alot money', 'always cut make beep beep beep sound say signal failed', 'figure', 'phone sounded ok great ok wife phone wa almost totally unintelligible understand word said', 'take battery phone put back together restart', 'managed bend leaf spring back place metal ha enough stress break next drop', 'leopard print wonderfully wild', 'work', 'saggy floppy piece junk', 'much better hard plastic case', 'also new problem', 'happy far', 'cool phone', 'work good', 'motorola finally got voice quality bluetooth headset right', 'loos connection phone even within couple foot two', 'great would really recommend', 'make easier keep bluetooth wearing', 'said pretty useless', 'never got', 'pair headphone worst ever sound wise', 'drain weak snap', 'doe charge cingular att 8525 phone', 'get extra minute carry call get cut', 'however year fliptop started get loose wobbly eventually screen went black receive place call', 'kept catching cable seat pull phone turn', 'headset fulfills requirement happy purchase', 'logitech bluetooth headset 10', 'like fact rest lightly ear rather inside', 'lot website rating good phone', 'tried cable computer ipod work fine', 'mic joke volume quite low', 'returning', 'doe maintain connection computer lap', 'easy turn car volume control quite accessable', 'mine year christmas bought rest family', 'otherwise easy install use clear sound', 'nice leather', 'purchase different case', 'joy use', 'much disappointed company', 'satisifed', 'charge', 'phone get 2005 bought s710a say wow', 'button small', 'reading spec alone make say wow', 'love great armband', 'really like product motorola allot clearer ear piece mic', 'however keypad tinny sometimes reach wrong button', 'exchanged sony ericson z500a pretty happy decision', 'wa impressed price case', 'also make easier hold', 'use product motor control center lot high voltage humming equipment work great', 'pretty easy', 'make call certain place', 'however girl wa complain time phone wake like normal phone doe', 'beautiful styling though', 'company charge restocking fee still given refund back', 'trying return refund', 'plugged find darn thing worked', 'excellent product', 'earbud piece break easily', 'lousy product', 'phone try hard everything fails ability phone', 'best charger seen market yet', 'sweetest phone', 'oh charger seems work fine', 'fit securely ear hook doe even need used sound better directed ear canal', 'enough volume', 'echo problem unsatisfactory', 'could take 2 video time quality wa poor', 'waste money', 'going first negatively review product', 'adapter doe provide enough charging current', 'wa much hype phone assumed wa best mistake', 'also take picture case lense covered', 'phone fall easily', 'work people hear talk', 'text messaging feature really tricky use', 'really disappointed charger work', 'painful ear', 'lasted one day blew', 'disappointed', 'kind flop around', 'screen doe get smudged easily touch ear face', 'piece junk lose call phone', 'item doe match picture', 'thing disappoint infra red port irda', 'answer call unit never worked']\n"
     ]
    }
   ],
   "source": [
    "review_list = []\n",
    "stop_words = stopwords.words('english')\n",
    "for review in df.review:\n",
    "    review=re.sub(\"[^a-zA-Z0-9]\",\" \",review) # Use Regular Expression to remove non-alphanumeric characters from strings\n",
    "    review = review.lower() # Convert all characters to lower case\n",
    "    review=nltk.word_tokenize(review) # Tokenize the description\n",
    "    lemma = nltk.WordNetLemmatizer() # Perform lemmatization\n",
    "    review = [lemma.lemmatize(word) for word in review]\n",
    "    review = [word for word in review if not word in stop_words] # Remove stop words\n",
    "    review = \" \".join(review) # Join the description words\n",
    "    review_list.append(review) # Add the clean description to the description_list\n",
    "print(review_list)\n"
   ]
  },
  {
   "cell_type": "code",
   "execution_count": 18,
   "metadata": {
    "scrolled": true
   },
   "outputs": [
    {
     "name": "stdout",
     "output_type": "stream",
     "text": [
      "Vocabulary Size:  1879\n"
     ]
    }
   ],
   "source": [
    "# Identify vocabulary size - bag of words\n",
    "tokenizer = Tokenizer()\n",
    "tokenizer.fit_on_texts(df['review'])\n",
    "vocabulary_size = len(tokenizer.word_index) + 1\n",
    "print(\"Vocabulary Size: \", vocabulary_size)"
   ]
  },
  {
   "cell_type": "markdown",
   "metadata": {},
   "source": [
    "There are 1879 unique words in the reviews. This is our vocabulary size."
   ]
  },
  {
   "cell_type": "code",
   "execution_count": 19,
   "metadata": {},
   "outputs": [
    {
     "name": "stdout",
     "output_type": "stream",
     "text": [
      "Proposed word embedding length: 43\n"
     ]
    },
    {
     "data": {
      "text/plain": [
       "<keras.layers.core.embedding.Embedding at 0x245fa56f3d0>"
      ]
     },
     "execution_count": 19,
     "metadata": {},
     "output_type": "execute_result"
    }
   ],
   "source": [
    "# proposed word embedding length - Determine the word embedding and explore embedded words based on target inputs\n",
    "# Source: https://machinelearningmastery.com/use-word-embedding-layers-deep-learning-keras/\n",
    "word_embedding_length = int(round(numpy.sqrt(vocabulary_size)))\n",
    "print(\"Proposed word embedding length:\", word_embedding_length)\n",
    "tf.keras.layers.Embedding(vocabulary_size, word_embedding_length)"
   ]
  },
  {
   "cell_type": "markdown",
   "metadata": {},
   "source": [
    "The proposed word embedding length is determined by the distance of a word from the beginning of the vector. For example, if in a vector that has 300 spaces, the position of the word is 120 counting from the beginning of the vector, the embedding length of that word is 120 (Brownlee, 2021).\n",
    "\n",
    "I have used the process of the 4th square root to determine the proposed length."
   ]
  },
  {
   "cell_type": "code",
   "execution_count": 20,
   "metadata": {},
   "outputs": [
    {
     "name": "stdout",
     "output_type": "stream",
     "text": [
      "Maximum sequence length: 117\n",
      "Median sequence length: 29.0\n",
      "Minimum sequence length: 3\n"
     ]
    }
   ],
   "source": [
    "# statistical justification for the chosen maximum sequence length\n",
    "# Set the maxaimum sequence length based on the length of the longest sentence in the data set\n",
    "max_sequence_length = 0\n",
    "sequence_lengths = []\n",
    "for review in review_list:\n",
    "    review_length = len(review)\n",
    "    sequence_lengths.append(review_length)\n",
    "\n",
    "# Calculate maximum sequence length\n",
    "max_sequence_length = np.max(sequence_lengths)\n",
    "\n",
    "# Caluculate median sequence length\n",
    "median_sequence_length = np.median(sequence_lengths)\n",
    "\n",
    "# Calculate minimum sequence length\n",
    "min_sequence_length = np.min(sequence_lengths)\n",
    "\n",
    "print(f\"Maximum sequence length: {max_sequence_length}\")\n",
    "print(f\"Median sequence length: {median_sequence_length}\")\n",
    "print(f\"Minimum sequence length: {min_sequence_length}\")"
   ]
  },
  {
   "cell_type": "markdown",
   "metadata": {},
   "source": [
    "Now we have the information for padding sequences. We know that our minimum sequence will be padded with 114 tokens in order to meet the maximum length sequence in order to fit all the sequences into a matrix."
   ]
  },
  {
   "cell_type": "markdown",
   "metadata": {},
   "source": [
    "### B2.  Describe the goals of the tokenization process, including any code generated and packages that are used to normalize text during the tokenization process.\n",
    "*Rubric: The submission completely describes the goals of the tokenization process, including any code generated and packages that are used to normalize text during the tokenization process. The description is accurate.*\n",
    "\n",
    "Resource: https://tensorflow.org/api_docs/python/tf/keras/preprocessing/text/tokenizer\n",
    "\n",
    "The TensorFlow tokenizer class was used to vectorize the text corpus, by turning each text into a vector of integers. The vocabulary size was then created from the tokenized vector by counting the length of the indexes on the vector. The vocabulary size was then used used to find the word embedding length. The word embedding length is important to building our NLP model as it is an input value for one of the parameters.\n"
   ]
  },
  {
   "cell_type": "markdown",
   "metadata": {},
   "source": [
    "### B3.  Explain the padding process used to standardize the length of sequences, including the following in your explanation:\n",
    "*Rubric: The submission accurately explains the padding process used to standardize the length of sequences and includes an explanation of where the padding occurs. The padding process aligns with the chosen data, and a screenshot of a single padded sequence is provided.*\n",
    "\n",
    "- if the padding occurs before or after the text sequence\n",
    "- a screenshot of a single padded sequence\n",
    "\n",
    "In order for the NLP model to run as expected all sequences must be the same length. Padding of the sequences makes sure all the sequence lengths are the same size. I have chosen to pad and truncate the sequences after (post) the end of the sequence."
   ]
  },
  {
   "cell_type": "code",
   "execution_count": 21,
   "metadata": {},
   "outputs": [],
   "source": [
    "sequences = tokenizer.texts_to_sequences(df['review'])\n",
    "padded_sequences = pad_sequences(sequences, maxlen=max_sequence_length, padding=\"post\", truncating=\"post\")"
   ]
  },
  {
   "cell_type": "code",
   "execution_count": 22,
   "metadata": {},
   "outputs": [
    {
     "name": "stdout",
     "output_type": "stream",
     "text": [
      "[ 21  48  54 272   0   0   0   0   0   0   0   0   0   0   0   0   0   0\n",
      "   0   0   0   0   0   0   0   0   0   0   0   0   0   0   0   0   0   0\n",
      "   0   0   0   0   0   0   0   0   0   0   0   0   0   0   0   0   0   0\n",
      "   0   0   0   0   0   0   0   0   0   0   0   0   0   0   0   0   0   0\n",
      "   0   0   0   0   0   0   0   0   0   0   0   0   0   0   0   0   0   0\n",
      "   0   0   0   0   0   0   0   0   0   0   0   0   0   0   0   0   0   0\n",
      "   0   0   0   0   0   0   0   0   0]\n"
     ]
    }
   ],
   "source": [
    "print(padded_sequences[1])"
   ]
  },
  {
   "cell_type": "markdown",
   "metadata": {},
   "source": [
    "### B4.  Identify how many categories of sentiment will be used and an activation function for the final dense layer of the network.\n",
    "*Rubric: The submission clearly and accurately identifies how many categories of sentiment will be used and an appropriate fitting activation function for the final dense layer of the network.*\n",
    "\n",
    "Two categories of sentiment will be used. The activation function for the final Dense layer of the network is 'sigmoid'. Sigmoid is the best activation function to use on the final Dense layer of a binary sentiment problem. (https://towardsdatascience.com/an-easy-tutorial-about-sentiment-analysis-with-deep-learning-and-keras-2bf52b9cba91)"
   ]
  },
  {
   "cell_type": "markdown",
   "metadata": {},
   "source": [
    "### B5.  Explain the steps used to prepare the data for analysis, including the size of the training, validation, and test set split.\n",
    "*Rubric: The submission explains the steps used to prepare the data for analysis and accurately includes the size of the training, validation, and test split. The steps relate to preparing for neural network models and NLP techniques.*\n",
    "\n",
    "1. Read the data from the dataset\n",
    "2. Check on unusual or any abnormal characters\n",
    "3. Clean the data\n",
    "4. Explore the data\n",
    "5. Create a 2-Dimensional array with reviews and sentiments by encoding\n",
    "6. Split the data into train and test data sets with an 80/20 split\n",
    "7. Apply the tokenizer to the training set with the fit_on_texts() method\n",
    "8. Retrieve the word_index of the training set\n",
    "9. Add post-padding to the sequences to get the maximum length needed\n",
    "10. Fit the final model and convert both the training and test set into arrays using numpy"
   ]
  },
  {
   "cell_type": "code",
   "execution_count": 23,
   "metadata": {},
   "outputs": [
    {
     "name": "stdout",
     "output_type": "stream",
     "text": [
      "Training Size: (800, 117)\n",
      "Testing Size: (200, 117)\n",
      "Validation Size: (200, 117)\n"
     ]
    }
   ],
   "source": [
    "# Split the data set into training, test, and validation data sets\n",
    "X = padded_sequences\n",
    "y = numpy.array(df['sentiment'])\n",
    "\n",
    "from sklearn.model_selection import train_test_split\n",
    "X_train, X_test, y_train, y_test = train_test_split(X, y, test_size=.2, random_state=40, stratify=y)\n",
    "X_train, X_validation, y_train, y_validation = train_test_split(X, y, test_size=.2, random_state=40, stratify=y)\n",
    "\n",
    "print(\"Training Size:\", X_train.shape)\n",
    "print(\"Testing Size:\", X_test.shape)\n",
    "print(\"Validation Size:\", X_validation.shape)"
   ]
  },
  {
   "cell_type": "markdown",
   "metadata": {},
   "source": [
    "### B6.  Provide a copy of the prepared dataset.\n",
    "*Rubric: The submission provides a copy of a fully prepared dataset.*"
   ]
  },
  {
   "cell_type": "code",
   "execution_count": 24,
   "metadata": {},
   "outputs": [],
   "source": [
    "pd.DataFrame(X_train).to_csv('./sentiment labelled sentences/X_training_df.csv')\n",
    "pd.DataFrame(X_test).to_csv('./sentiment labelled sentences/X_testing_df.csv')\n",
    "pd.DataFrame(X_validation).to_csv('./sentiment labelled sentences/X_validate_df.csv')\n",
    "pd.DataFrame(y_train).to_csv('./sentiment labelled sentences/y_training_df.csv')\n",
    "pd.DataFrame(y_test).to_csv('./sentiment labelled sentences/y_testing_df.csv')\n",
    "pd.DataFrame(y_validation).to_csv('./sentiment labelled sentences/y_validate_df.csv')"
   ]
  },
  {
   "cell_type": "markdown",
   "metadata": {},
   "source": [
    "# Part III:  Network Architecture\n",
    "\n",
    "## C.  Describe the type of network used by doing the following:\n",
    "\n",
    "### C1.  Provide the output of the model summary of the function from TensorFlow.\n",
    "*Rubric:The submission provides the complete output of the model summary of the function from TensorFlow. The output aligns with the type of network used.*"
   ]
  },
  {
   "cell_type": "code",
   "execution_count": 25,
   "metadata": {
    "scrolled": true
   },
   "outputs": [
    {
     "name": "stdout",
     "output_type": "stream",
     "text": [
      "Epoch 14: early stopping\n"
     ]
    }
   ],
   "source": [
    "# Create an activation function filled with dense layers of the neural network\n",
    "loss=\"binary_crossentropy\"\n",
    "optimizer=\"adam\" #rmsprop\n",
    "\n",
    "num_epochs=25\n",
    "\n",
    "y_train.reshape((-1,1))\n",
    "y_test.reshape((-1,1))\n",
    "y_validation.reshape((-1,1))\n",
    "\n",
    "# Define early stopping monitor\n",
    "early_stopping_monitor=EarlyStopping(patience=2, verbose=1)\n",
    "\n",
    "model = tf.keras.Sequential([\n",
    "    tf.keras.layers.Embedding(vocabulary_size, word_embedding_length, input_length=max_sequence_length),\n",
    "    tf.keras.layers.Bidirectional(tf.keras.layers.LSTM(20,dropout=0.6)), # Resource: https://towardsdatascience.com/an-easy-tutorial-about-sentiment-analysis-with-deep-learning-and-keras-2bf52b9cba91\n",
    "#     tf.keras.layers.Dense(10, activation='relu'),\n",
    "#     tf.keras.layers.GlobalAveragePooling1D(),\n",
    "#     tf.keras.layers.Flatten(),\n",
    "    tf.keras.layers.Dense(100, activation='relu'),\n",
    "#     tf.keras.layers.GlobalAveragePooling1D(),\n",
    "    tf.keras.layers.Dense(50, activation='relu'),\n",
    "    tf.keras.layers.Dense(2, activation='sigmoid'), # binary problems should have sigmoid as last layer fucntion activation\n",
    "    tf.keras.layers.Flatten()\n",
    "])\n",
    "\n",
    "model.compile(loss=loss, optimizer=optimizer, metrics=['acc'])\n",
    "\n",
    "history = model.fit(X_train, y_train, batch_size=128, epochs=num_epochs, verbose=0, validation_split=0.2, callbacks=early_stopping_monitor)\n"
   ]
  },
  {
   "cell_type": "code",
   "execution_count": 26,
   "metadata": {},
   "outputs": [
    {
     "name": "stdout",
     "output_type": "stream",
     "text": [
      "Model: \"sequential\"\n",
      "_________________________________________________________________\n",
      " Layer (type)                Output Shape              Param #   \n",
      "=================================================================\n",
      " embedding_1 (Embedding)     (None, 117, 43)           80797     \n",
      "                                                                 \n",
      " bidirectional (Bidirectiona  (None, 40)               10240     \n",
      " l)                                                              \n",
      "                                                                 \n",
      " dense (Dense)               (None, 100)               4100      \n",
      "                                                                 \n",
      " dense_1 (Dense)             (None, 50)                5050      \n",
      "                                                                 \n",
      " dense_2 (Dense)             (None, 2)                 102       \n",
      "                                                                 \n",
      " flatten (Flatten)           (None, 2)                 0         \n",
      "                                                                 \n",
      "=================================================================\n",
      "Total params: 100,289\n",
      "Trainable params: 100,289\n",
      "Non-trainable params: 0\n",
      "_________________________________________________________________\n"
     ]
    }
   ],
   "source": [
    "model.summary()"
   ]
  },
  {
   "cell_type": "markdown",
   "metadata": {},
   "source": [
    "### C2.  Discuss the number of layers, the type of layers, and total number of parameters.\n",
    "*Rubric: The submission completely and accurately discusses the number of layers, the type of layers, and the total number of parameters in the network.*\n",
    "\n",
    "**1st Layer: Core Type = Embedding**\n",
    "- Layer Type = Input\n",
    "    - Total # Parameters = 80,797\n",
    "    \n",
    "**2nd Layer: Core Type = Bidirectional**\n",
    "- Layer Type = Input\n",
    "    - Total # Parameters = 10,240\n",
    "    \n",
    "**3rd Layer: Core Type = Dense**\n",
    "- Layer Type = Hidden\n",
    "    - Total # Parameters = 5050\n",
    "    \n",
    "**4th Layer: Core Type = Dense**\n",
    "- Layer Type = Hidden\n",
    "    - Total # Parameters = 102\n",
    "    \n",
    "**5th Layer: Core Type = Flatten**\n",
    "- Layer Type = Output\n",
    "    - Total # Parameters = 0\n",
    "    \n",
    "**Total Number of Parameters**\n",
    "- 100,289 where 100,289 are trainable and 0 are non-trainable"
   ]
  },
  {
   "cell_type": "markdown",
   "metadata": {},
   "source": [
    "### C3.  Justify the choice of hyperparameters, including the following elements:\n",
    "*Rubric: The submission logically justifies the choice of hyperparameters, including each of the 6 listed elements, and each element aligns with the network used.*\n",
    "- Activation Functions\n",
    "    - Sigmoid was selected because it performs best for binary values such as those in the sentiment column of the data set. The formula for the Sigmoid activation function, sigmoid(x) = 1 / (1 + exp(-x)). The second element is assumed to be zero. The sigmoid function always returns a value between 0 and 1. (Source: https://keras.io/api/layers/activations/)\n",
    "- Number of Nodes Per Layer\n",
    "    - The number of nodes that were selected for each Input Dense layers 3 and 4 was selected by trial and error. \n",
    "    - The Output Dense layer was set to 2 nodes because the y values are sentimental. In other words 0 for a negative review and 1 for a positive review. This means there can only be two possible outcomes.\n",
    "- Loss Function\n",
    "    - The loss function was set to binary cross entropy because it is best for a binary outcome. \"Loss: A scalar value that we attempt to minimize during our training of the model. The lower the loss, the closer our predictions are to the true labels. This is usually Mean Squared Error (MSE) as David Maust said above, or often in Keras, Categorical Cross Entropy.\" (https://stackoverflow.com/questions/34673396/what-does-the-standard-keras-model-output-mean-what-is-epoch-and-loss-in-keras#:~:text=Loss%3A%20A%20scalar%20value%20that,in%20Keras%2C%20Categorical%20Cross%20Entropy)\n",
    "- Optimizer\n",
    "    - The Adam optimizer was the selected optimizer because it is the most commonly used in a deep learning problem like we have built here. (https://machinelearningmastery.com/adam-optimization-algorithm-for-deep-learning/)\n",
    "- Stopping Criteria\n",
    "    - The stopping criteria is used in order to tell the network to stop early if a certain criteria is met. In this case I used the value of the accuracy score as my stopping criteria as that is what I was most interested in achieving.\n",
    "- Evaluation Metric\n",
    "    - Accuracy was used as the evaluation metric to be used to assess the performance of the model as it was of the most interest."
   ]
  },
  {
   "cell_type": "markdown",
   "metadata": {},
   "source": [
    "# Part IV:  Model Evaluation\n",
    "\n",
    "## D.  Evaluate the model training process and its relevant outcomes by doing the following:\n",
    "\n",
    "### D1.  Discuss the impact of using stopping criteria instead of defining the number of epochs, including a screenshot showing the final training epoch.\n",
    "*Rubric: The submission accurately discusses the impact of using stopping criteria instead of defining the number of epochs. A screenshot showing the final training epoch is provided.*\n",
    "\n",
    "Resources: https://stats.stackexchange.com/questions/231061/how-to-use-early-stopping-properly-for-training-deep-neural-network, https://keras.io/api/callbacks/early_stopping/\n",
    "\n",
    "The number or epochs is used to tell the model to continue to train within the range of 0 to the epoch set on the model. Epochs can be used to determine the best validation score. This can be done by a manual process or automatically by using the early stopping parameter called patience. Patience tells the model how many epochs the model should go without improving before training is stopped. A general rule is to set the patience to 2 or 3. "
   ]
  },
  {
   "cell_type": "code",
   "execution_count": 27,
   "metadata": {},
   "outputs": [
    {
     "name": "stdout",
     "output_type": "stream",
     "text": [
      "7/7 [==============================] - 0s 29ms/step - loss: 0.4119 - acc: 0.8250\n"
     ]
    }
   ],
   "source": [
    "# list all data in history\n",
    "# Sources: https://keras.io/api/callbacks/, https://machinelearningmastery.com/display-deep-learning-model-training-history-in-keras/\n",
    "score = model.evaluate(X_test, y_test, verbose=1)"
   ]
  },
  {
   "cell_type": "markdown",
   "metadata": {},
   "source": [
    "### D2.  Provide visualizations of the model’s training process, including a line graph of the loss and chosen evaluation metric.\n",
    "*Rubric: The submission provides complete visualizations of the model’s training process, including a line graph of the loss and the chosen evaluation metric. The visualizations are clearly labeled and align with the model’s training process.*\n"
   ]
  },
  {
   "cell_type": "code",
   "execution_count": 28,
   "metadata": {
    "scrolled": true
   },
   "outputs": [
    {
     "data": {
      "image/png": "[encoded data removed]",
      "text/plain": [
       "<Figure size 432x288 with 1 Axes>"
      ]
     },
     "metadata": {
      "needs_background": "light"
     },
     "output_type": "display_data"
    },
    {
     "data": {
      "image/png": "[encoded data removed]",
      "text/plain": [
       "<Figure size 432x288 with 1 Axes>"
      ]
     },
     "metadata": {
      "needs_background": "light"
     },
     "output_type": "display_data"
    }
   ],
   "source": [
    "# Source: https://stackabuse.com/python-for-nlp-movie-sentiment-analysis-using-deep-learning-in-keras/\n",
    "plt.plot(history.history['acc'])\n",
    "plt.plot(history.history['val_acc'])\n",
    "\n",
    "plt.title('model accuracy')\n",
    "plt.ylabel('accuracy')\n",
    "plt.xlabel('epoch')\n",
    "plt.legend(['train','test'], loc='upper left')\n",
    "plt.show()\n",
    "\n",
    "plt.plot(history.history['loss'])\n",
    "plt.plot(history.history['val_loss'])\n",
    "\n",
    "plt.title('model loss')\n",
    "plt.ylabel('loss')\n",
    "plt.xlabel('epoch')\n",
    "plt.legend(['train','test'], loc='upper left')\n",
    "plt.show()"
   ]
  },
  {
   "cell_type": "markdown",
   "metadata": {},
   "source": [
    "### D3.  Assess the fitness of the model and any measures taken to address overfitting.\n",
    "*Rubric: The submission completely and accurately assesses the fitness of the model, and the assessment includes any measures taken to address overfitting.*\n",
    "\n",
    "Source: https://towardsdatascience.com/dont-overfit-how-to-prevent-overfitting-in-your-deep-learning-models-63274e552323\n",
    "\n",
    "To decrease the complexity, I simply removed layers and reduced the number of neurons in order to make our network smaller. There is no general rule on how much to remove or how big your network should be.\n",
    "\n",
    "At first the I had 4 Dense Layers and a GlobalAveragePoolin1D layer in my network. After viewing the results of the graph of the training process it was clear the model was over fitting. I decreased the number of nodes per Dense layer first and that helped but definitely did not solve the overfitting issue. After some more research on different types of network layers that are good for high accuracy results and a good fit I discovered the Bidirectional network layer with an input layer of LSTM. Updating the GolbalAveragePoolingLayer1D to the Bidirecitonal layer in addition to reducing the number of Dense layers and the total number of nodes for the remaining Dense layers the model had a much better fit."
   ]
  },
  {
   "cell_type": "markdown",
   "metadata": {},
   "source": [
    "\n",
    "### D4.  Discuss the predictive accuracy of the trained network.\n",
    "*Rubric: The submission discusses the predictive accuracy of the trained network using the selected evaluation metric from part D2.*\n",
    "\n",
    "The model has a predictive accuracy of 67%. This means that every 6 or 7 predictions from data input to the model will be correct.\n"
   ]
  },
  {
   "cell_type": "code",
   "execution_count": 29,
   "metadata": {
    "scrolled": true
   },
   "outputs": [
    {
     "name": "stdout",
     "output_type": "stream",
     "text": [
      "Test Score: 0.4118857979774475\n",
      "Test Accuracy: 0.824999988079071\n"
     ]
    }
   ],
   "source": [
    "print(\"Test Score:\", score[0])\n",
    "print(\"Test Accuracy:\", score[1])"
   ]
  },
  {
   "cell_type": "markdown",
   "metadata": {},
   "source": [
    "# Part V:  Summary and Recommendations\n",
    "\n",
    "## E.  Provide the code used to save the trained network within the neural network.\n",
    "*Rubric: The submission provides the code used to save the trained network within the neural network, and the code is complete and accurate.*\n",
    "\n",
    "## F.  Discuss the functionality of your neural network, including the impact of the network architecture.\n",
    "*Rubric: The submission accurately discusses the functionality of the neural network, including the impact of the network architecture. The discussion aligns with the research question from part A.*\n",
    "\n",
    "The neural network includes an input of ~2,200 customer reviews to train the model and ~550 reviews to test and validate the model. NLP was was used to analyze the sentiments of the customers from the review where the actual sentiment label was 0 for a negative review and 1 for a positive review. The model was tuned to perform prediction on new customer reviews in order to identify customer sentiments if they were positive or negative reviews. \n",
    "\n",
    "The impact of the network architecture was created through experimentation based on research. There are different keras layers that perform best for a NLP prediction model. Each layer's parameters were adjusted until an acceptable degree of accuracy was reached to detect the sentiment of a review.\n",
    "\n",
    "## G.  Recommend a course of action based on your results.\n",
    "*Rubric: The submission recommends an appropriate course of action based on the results as they relate to the research question.*\n",
    "\n",
    "The trained neural network is capable of processing natural language to identify sentiments from customer reviews. The neural network has a predictive accuracy of 82% and therefore capable of analyzing customer feedback and identifying sentiments in the review texts submitted by customers. This sentiment analysis can help the company to figure out which products are liked or not liked by customers based on the positive and negative reviews. Based on the analysis, the company can take appropriate action to address any concerns shown in the reviews."
   ]
  },
  {
   "cell_type": "markdown",
   "metadata": {},
   "source": [
    "# Part VI: Reporting\n",
    "\n",
    "## H.  Create your neural network using an industry-relevant interactive development environment (e.g., a Jupyter Notebook). Include a PDF or HTML document of your executed notebook presentation.\n",
    "*Rubric: The neural network is created in an industry-relevant interactive development environment and is complete, accurate, and in alignment with the data analysis of the report. A PDF or HTML document of the executed notebook presentation is provided.*\n",
    "\n",
    "\n",
    "## I.  List the web sources used to acquire data or segments of third-party code to support the application.\n",
    "*Rubric: The submission lists all web sources used to acquire data or segments of third-party code, and all the listed web sources are reliable.*\n",
    "\n",
    "1. https://machinelearningmastery.com/use-word-embedding-layers-deep-learning-keras/\n",
    "2. https://towardsdatascience.com/an-easy-tutorial-about-sentiment-analysis-with-deep-learning-and-keras-2bf52b9cba91\n",
    "3. https://keras.io/api/callbacks/\n",
    "4. https://machinelearningmastery.com/display-deep-learning-model-training-history-in-keras/\n",
    "5. https://stackabuse.com/python-for-nlp-movie-sentiment-analysis-using-deep-learning-in-keras/\n",
    "\n",
    "## J.  Acknowledge sources, using in-text citations and references, for content that is quoted, paraphrased, or summarized.\n",
    "*Rubric: The submission includes in-text citations for sources that are properly quoted, paraphrased, or summarized and a reference list that accurately identifies the author, date, title, and source location as available.*\n",
    "1. https://keras.io/api/layers/activations/\n",
    "2. https://stackoverflow.com/questions/34673396/what-does-the-standard-keras-model-output-mean-what-is-epoch-and-loss-in-keras#:~:text=Loss%3A%20A%20scalar%20value%20that,in%20Keras%2C%20Categorical%20Cross%20Entropy\n",
    "3. https://machinelearningmastery.com/adam-optimization-algorithm-for-deep-learning/\n",
    "4. https://stats.stackexchange.com/questions/231061/how-to-use-early-stopping-properly-for-training-deep-neural-network\n",
    "5. https://keras.io/api/callbacks/early_stopping/\n",
    "6. https://towardsdatascience.com/dont-overfit-how-to-prevent-overfitting-in-your-deep-learning-models-63274e552323\n",
    "7. https://www.tensorflow.org/api_docs/python/tf/keras/layers/Embedding\n",
    "8. https://machinelearningmastery.com/use-word-embedding-layers-deep-learning-keras/\n",
    "9. https://tensorflow.org/api_docs/python/tf/keras/preprocessing/text/tokenizer\n",
    "\n",
    "## K.  Demonstrate professional communication in the content and presentation of your submission.\n",
    "*Rubric: Content reflects attention to detail, is organized, and focuses on the main ideas as prescribed in the task or chosen by the candidate. Terminology is pertinent, is used correctly, and effectively conveys the intended meaning. Mechanics, usage, and grammar promote accurate interpretation and understanding.*\n"
   ]
  }
 ],
 "metadata": {
  "kernelspec": {
   "display_name": "d206_wgu",
   "language": "python",
   "name": "myenv"
  },
  "language_info": {
   "codemirror_mode": {
    "name": "ipython",
    "version": 3
   },
   "file_extension": ".py",
   "mimetype": "text/x-python",
   "name": "python",
   "nbconvert_exporter": "python",
   "pygments_lexer": "ipython3",
   "version": "3.8.5"
  }
 },
 "nbformat": 4,
 "nbformat_minor": 4
}
